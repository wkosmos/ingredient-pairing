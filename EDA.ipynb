{
 "cells": [
  {
   "cell_type": "code",
   "execution_count": 2,
   "metadata": {},
   "outputs": [],
   "source": [
    "import numpy as np\n",
    "import pandas as pd"
   ]
  },
  {
   "cell_type": "code",
   "execution_count": 3,
   "metadata": {},
   "outputs": [],
   "source": [
    "with np.load('data/simplified-recipes-1M.npz', allow_pickle=True) as data:\n",
    "    recipes = data['recipes']\n",
    "    ingredients = data['ingredients']\n"
   ]
  },
  {
   "cell_type": "code",
   "execution_count": 4,
   "metadata": {},
   "outputs": [],
   "source": [
    "word_recipes_10k = [ingredients[recipes[i]] for i in range(10000)]\n",
    "\n",
    "recipes_df = pd.DataFrame(word_recipes_10k)\n",
    "\n",
    "recipe_nums_df = pd.DataFrame([recipes[i] for i in range(10000)])"
   ]
  },
  {
   "cell_type": "code",
   "execution_count": 5,
   "metadata": {
    "scrolled": true
   },
   "outputs": [
    {
     "data": {
      "text/plain": [
       "[array(['basil leaves', 'focaccia', 'leaves', 'mozzarella', 'pesto',\n",
       "        'plum tomatoes', 'rosemary', 'sandwiches', 'sliced', 'tomatoes'],\n",
       "       dtype='<U39'),\n",
       " array(['balsamic vinegar', 'boiling water', 'butter', 'cooking spray',\n",
       "        'crumbled gorgonzola', 'currants', 'gorgonzola', 'grated orange',\n",
       "        'kosher', 'kosher salt', 'orange rind', 'parsley', 'pine nuts',\n",
       "        'polenta', 'toasted', 'vinegar', 'water'], dtype='<U39'),\n",
       " array(['bottle', 'bouillon', 'carrots', 'celery', 'chicken bouillon',\n",
       "        'cilantro', 'clam juice', 'cloves', 'fish', 'garlic',\n",
       "        'medium shrimp', 'olive', 'olive oil', 'onion', 'pepper',\n",
       "        'pepper flakes', 'red pepper', 'red pepper flakes', 'salt',\n",
       "        'sherry', 'shrimp', 'stewed tomatoes', 'tomatoes', 'water',\n",
       "        'white', 'white wine'], dtype='<U39'),\n",
       " array(['grand marnier', 'kahlua'], dtype='<U39'),\n",
       " array(['black pepper', 'coarse sea salt', 'fresh lemon',\n",
       "        'fresh lemon juice', 'ground', 'ground black pepper', 'lemon',\n",
       "        'lemon juice', 'lime', 'lime peel', 'mayonaise', 'pepper',\n",
       "        'sea salt', 'shallots', 'sherry wine', 'sherry wine vinegar',\n",
       "        'vinegar', 'wine vinegar'], dtype='<U39'),\n",
       " array(['black pepper', 'blue cheese', 'buttermilk', 'cheese', 'chives',\n",
       "        'cider vinegar', 'cracked black pepper', 'pepper', 'ricotta',\n",
       "        'ricotta cheese', 'roasted', 'roasted garlic', 'salt', 'sauce',\n",
       "        'vinegar', 'worcestershire sauce'], dtype='<U39'),\n",
       " array(['almonds', 'basmati', 'basmati rice', 'bay leaves',\n",
       "        'black cardamom pods', 'brown', 'cardamom', 'cardamom pods',\n",
       "        'cashews', 'chili powder', 'chilies', 'cilantro', 'cinnamon',\n",
       "        'cinnamon sticks', 'cloves', 'coriander', 'coriander powder',\n",
       "        'cumin powder', 'ghee', 'green', 'green chilies', 'hot water',\n",
       "        'leaves', 'milk', 'mint', 'mutton', 'oil', 'onions', 'paste',\n",
       "        'powder', 'raisins', 'saffron', 'salt', 'tomatoes', 'turmeric',\n",
       "        'turmeric powder', 'water', 'yogurt'], dtype='<U39'),\n",
       " array(['black pepper', 'cayenne', 'cayenne pepper', 'chicken',\n",
       "        'chicken broth', 'cilantro', 'cinnamon', 'cocoa powder', 'cream',\n",
       "        'fresh cilantro', 'garlic', 'garlic powder', 'ground',\n",
       "        'ground black pepper', 'ground cinnamon', 'ground cumin', 'meat',\n",
       "        'olive', 'olive oil', 'onions', 'pepper', 'poblano', 'pork',\n",
       "        'pork stew meat', 'powder', 'pumpkin', 'salt', 'stew meat',\n",
       "        'sweet pepper', 'unsweetened', 'unsweetened cocoa powder', 'water',\n",
       "        'whipping cream'], dtype='<U39'),\n",
       " array(['cinnamon', 'condensed milk', 'egg', 'egg whites', 'egg yolks',\n",
       "        'evaporated milk', 'extract', 'ground cinnamon', 'milk', 'sugar',\n",
       "        'sweetened', 'sweetened condensed milk', 'vanilla extract',\n",
       "        'water', 'white sugar'], dtype='<U39'),\n",
       " array(['applesauce', 'baking powder', 'baking soda', 'brown sugar',\n",
       "        'cinnamon', 'cranberries', 'eggs', 'extract', 'flour',\n",
       "        'ground cinnamon', 'powder', 'salt', 'soda', 'sugar',\n",
       "        'vanilla extract', 'zucchini'], dtype='<U39'),\n",
       " array(['avocado', 'blue cheese', 'cheese', 'cottage cheese', 'cream',\n",
       "        'crumbled blue cheese', 'garlic', 'garlic powder', 'lemon',\n",
       "        'lemon juice', 'onion', 'onion salt', 'pepper', 'salt', 'sauce',\n",
       "        'sour cream', 'worcestershire sauce'], dtype='<U39'),\n",
       " array(['butternut', 'butternut squash', 'carrot', 'chicken',\n",
       "        'chicken broth', 'milk', 'onion', 'potato', 'rubbed sage',\n",
       "        'rutabaga', 'sage', 'salt', 'turnips'], dtype='<U39'),\n",
       " array(['cabbage', 'celery', 'celery seeds', 'green pepper', 'onion',\n",
       "        'pepper', 'red pepper', 'salt', 'sugar', 'vegetable',\n",
       "        'vegetable oil', 'vinegar'], dtype='<U39'),\n",
       " array(['balsamic vinegar', 'boneless skinless chicken',\n",
       "        'boneless skinless chicken breasts', 'brown', 'brown rice',\n",
       "        'carrot', 'chicken', 'chicken breasts', 'chicken broth', 'ginger',\n",
       "        'green pepper', 'instant', 'lettuce', 'light soy sauce',\n",
       "        'minced ginger', 'onion', 'pepper', 'red onion', 'romaine lettuce',\n",
       "        'sauce', 'sesame', 'sesame seeds', 'skinless chicken breasts',\n",
       "        'sliced', 'soy sauce', 'toasted', 'toasted sesame seeds',\n",
       "        'vinegar', 'wine vinegar'], dtype='<U39'),\n",
       " array(['bananas', 'cherry', 'condensed milk', 'crust', 'fudge', 'juice',\n",
       "        'lemon', 'lemon juice', 'maraschino', 'pecans', 'pie crust',\n",
       "        'pineapple', 'pineapple chunks', 'sweetened',\n",
       "        'sweetened condensed milk', 'vanilla'], dtype='<U39'),\n",
       " array(['baking powder', 'brown sugar', 'butter', 'corn syrup', 'egg',\n",
       "        'flour', 'ground', 'ground ginger', 'light brown sugar', 'powder',\n",
       "        'sugar', 'syrup', 'unsalted butter'], dtype='<U39'),\n",
       " array(['cereal', 'cinnamon', 'cranberries', 'crisp rice',\n",
       "        'dried cranberries', 'ground cinnamon', 'honey', 'oats',\n",
       "        'raw honey', 'rice cereal', 'unsweetened',\n",
       "        'unsweetened applesauce', 'vanilla', 'walnut', 'walnuts'],\n",
       "       dtype='<U39'),\n",
       " array(['bacon', 'beans', 'cloves', 'creole seasoning', 'garlic',\n",
       "        'garlic salt', 'green beans', 'onion', 'parsley', 'parsley flakes',\n",
       "        'pepper', 'pork', 'pork sausage', 'salt', 'sausage', 'seasoning'],\n",
       "       dtype='<U39'),\n",
       " array(['chocolate', 'milk', 'pancake', 'pancake mix', 'rich'],\n",
       "       dtype='<U39'),\n",
       " array(['almond extract', 'baking powder', 'blueberries', 'cake flour',\n",
       "        'confectioners sugar', 'eggs', 'extract', 'flour',\n",
       "        'grated lemon zest', 'lemon', 'lemon juice', 'lemon zest', 'milk',\n",
       "        'powder', 'salt', 'sugar', 'temperature', 'unsalted butter'],\n",
       "       dtype='<U39')]"
      ]
     },
     "execution_count": 5,
     "metadata": {},
     "output_type": "execute_result"
    }
   ],
   "source": [
    "[word_recipes_10k[i] for i in range(20)]"
   ]
  },
  {
   "cell_type": "code",
   "execution_count": 12,
   "metadata": {},
   "outputs": [
    {
     "name": "stdout",
     "output_type": "stream",
     "text": [
      "<class 'numpy.ndarray'>\n",
      "<class 'numpy.ndarray'>\n",
      "<class 'numpy.int64'>\n"
     ]
    }
   ],
   "source": [
    "print(type(recipes))\n",
    "print(type(recipes[0]))\n",
    "print(type(recipes[0][0]))"
   ]
  },
  {
   "cell_type": "code",
   "execution_count": null,
   "metadata": {},
   "outputs": [],
   "source": []
  }
 ],
 "metadata": {
  "kernelspec": {
   "display_name": "Python 3",
   "language": "python",
   "name": "python3"
  },
  "language_info": {
   "codemirror_mode": {
    "name": "ipython",
    "version": 3
   },
   "file_extension": ".py",
   "mimetype": "text/x-python",
   "name": "python",
   "nbconvert_exporter": "python",
   "pygments_lexer": "ipython3",
   "version": "3.7.6"
  }
 },
 "nbformat": 4,
 "nbformat_minor": 4
}
