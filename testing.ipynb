{
 "cells": [
  {
   "cell_type": "code",
   "execution_count": 1,
   "metadata": {},
   "outputs": [],
   "source": [
    "import numpy as np\n",
    "import pandas as pd\n",
    "import itertools\n",
    "import pickle\n"
   ]
  },
  {
   "cell_type": "code",
   "execution_count": 3,
   "metadata": {},
   "outputs": [],
   "source": [
    "with np.load('data/simplified-recipes-1M.npz', allow_pickle=True) as data:\n",
    "    recipes = data['recipes']\n",
    "    ingredients = data['ingredients']\n"
   ]
  },
  {
   "cell_type": "code",
   "execution_count": 4,
   "metadata": {},
   "outputs": [],
   "source": [
    "word_recipes_10k = [ingredients[recipes[i]] for i in range(10000)]\n",
    "recipes_10k = [recipes[i] for i in range(10000)]\n",
    "recipes_1k = [recipes[i] for i in range(1000)]\n",
    "recipes_100 = [recipes[i] for i in range(100)]"
   ]
  },
  {
   "cell_type": "code",
   "execution_count": 5,
   "metadata": {},
   "outputs": [],
   "source": [
    "def get_combs(in_lst, comb_len=2):\n",
    "    \"\"\"Get possible combinations of length n from input list.\n",
    "    \n",
    "    Args:\n",
    "    in_lst (list): list to get combinations from\n",
    "    comb_len (int): length of combinations (default 2)\n",
    "\n",
    "    Returns:\n",
    "    dict where keys are combinations and values are counts\n",
    "    \n",
    "    \"\"\"\n",
    "    all_combs = {}\n",
    "\n",
    "    for recipe in in_lst:\n",
    "        # get all combinations in recipe\n",
    "        combs = itertools.combinations(recipe, comb_len)\n",
    "        for comb in combs:\n",
    "            if comb not in all_combs:\n",
    "                all_combs[comb] = 1\n",
    "            else:\n",
    "                all_combs[comb] += 1\n",
    "\n",
    "            \n",
    "\n",
    "    return all_combs\n",
    "\n",
    "def recipe_words(recipe):\n",
    "    \"\"\"Get the ingredient names for a recipe.\n",
    "    \n",
    "    Args:\n",
    "    recipe (np arr): input recipe as np array of ingredient indices\n",
    "\n",
    "    Returns:\n",
    "    input recipe as list of ingredient strings\n",
    "    \n",
    "    \"\"\"\n",
    "    return [ingredients[i] for i in recipe]\n",
    "\n",
    "\n",
    "def dict_to_pickle(dict, path):\n",
    "    \"\"\"Write a dictionary to a pickle at specified path.\n",
    "    \n",
    "    Args:\n",
    "    dict: dictionary to write to pickle\n",
    "    path (str): location to save pickle\n",
    "\n",
    "    Returns:\n",
    "    nothing\n",
    "    \"\"\"\n",
    "    with open(path, 'wb') as handle:\n",
    "        pickle.dump(dict, handle, protocol=pickle.HIGHEST_PROTOCOL)\n",
    "    print('saved ' + str(path))\n",
    "\n",
    "\n",
    "def NPMI(ing1, ing2, recipes):\n",
    "    \"\"\"Calculate the normalized point-wise mutual information\"\"\"\n",
    "\n",
    "    num_recipes = len(recipes)\n",
    "    # prob of ingredient 1 occuring\n",
    "    recipes_with_1 = [recipe for recipe in recipes  if ing1 in recipe]\n",
    "    p_of_ing1 = len(recipes_with_1) / num_recipes\n",
    "\n",
    "    # prob of ingredient 2 occuring\n",
    "    recipes_with_2 = [recipe for recipe in recipes if ing2 in recipe]\n",
    "    p_of_ing2 = len(recipes_with_2) / num_recipes\n",
    "\n",
    "    # calculate prob of both ingredients occuring together\n",
    "    recipes_with_both = [recipe for recipe in recipes_with_1 if ing2 in recipe]\n",
    "    p_of_ing_1_and_2 = len(recipes_with_both) / len(recipes)\n",
    "\n",
    "    # calculate PMI\n",
    "    pmi = np.log2(p_of_ing_1_and_2 / (p_of_ing1 * p_of_ing2))\n",
    "\n",
    "    # normalize PMI\n",
    "    nmpi = pmi / - (np.log2(p_of_ing_1_and_2))\n",
    "\n",
    "    return nmpi\n"
   ]
  },
  {
   "cell_type": "code",
   "execution_count": 10,
   "metadata": {},
   "outputs": [],
   "source": [
    "existing_combs_counts = get_combs(recipes)\n",
    "\n",
    "existing_combs = [comb for comb, value in existing_combs_counts.items()]"
   ]
  },
  {
   "cell_type": "code",
   "execution_count": 14,
   "metadata": {},
   "outputs": [
    {
     "data": {
      "text/plain": [
       "(233, 2754)"
      ]
     },
     "execution_count": 14,
     "metadata": {},
     "output_type": "execute_result"
    }
   ],
   "source": [
    "existing_combs[0]\n"
   ]
  },
  {
   "cell_type": "code",
   "execution_count": null,
   "metadata": {},
   "outputs": [],
   "source": [
    "for i in range(30):\n",
    "    print(existing_combs[i])\n",
    "    print(NPMI(existing_combs[i][0], existing_combs[i][1], recipes))"
   ]
  }
 ],
 "metadata": {
  "kernelspec": {
   "display_name": "Python 3",
   "language": "python",
   "name": "python3"
  },
  "language_info": {
   "codemirror_mode": {
    "name": "ipython",
    "version": 3
   },
   "file_extension": ".py",
   "mimetype": "text/x-python",
   "name": "python",
   "nbconvert_exporter": "python",
   "pygments_lexer": "ipython3",
   "version": "3.7.6"
  }
 },
 "nbformat": 4,
 "nbformat_minor": 4
}
